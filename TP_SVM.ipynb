{
  "nbformat": 4,
  "nbformat_minor": 0,
  "metadata": {
    "colab": {
      "provenance": [],
      "gpuType": "T4",
      "authorship_tag": "ABX9TyMilKrWELi4II2FTCibfy3F",
      "include_colab_link": true
    },
    "kernelspec": {
      "name": "python3",
      "display_name": "Python 3"
    },
    "language_info": {
      "name": "python"
    },
    "accelerator": "GPU"
  },
  "cells": [
    {
      "cell_type": "markdown",
      "metadata": {
        "id": "view-in-github",
        "colab_type": "text"
      },
      "source": [
        "<a href=\"https://colab.research.google.com/github/wrmdx/SVM_SentimentAnalysis/blob/main/TP_SVM.ipynb\" target=\"_parent\"><img src=\"https://colab.research.google.com/assets/colab-badge.svg\" alt=\"Open In Colab\"/></a>"
      ]
    },
    {
      "cell_type": "code",
      "execution_count": 17,
      "metadata": {
        "id": "dIT6GazTBvKD",
        "colab": {
          "base_uri": "https://localhost:8080/"
        },
        "outputId": "507361d3-27c9-4eaf-f769-6c4673b23897"
      },
      "outputs": [
        {
          "output_type": "stream",
          "name": "stderr",
          "text": [
            "[nltk_data] Downloading package stopwords to /root/nltk_data...\n",
            "[nltk_data]   Package stopwords is already up-to-date!\n",
            "[nltk_data] Downloading package wordnet to /root/nltk_data...\n",
            "[nltk_data]   Package wordnet is already up-to-date!\n"
          ]
        },
        {
          "output_type": "execute_result",
          "data": {
            "text/plain": [
              "True"
            ]
          },
          "metadata": {},
          "execution_count": 17
        }
      ],
      "source": [
        "import numpy as np\n",
        "from sklearn.model_selection import train_test_split, GridSearchCV\n",
        "from sklearn.feature_extraction.text import TfidfVectorizer\n",
        "from sklearn.svm import SVC\n",
        "from sklearn.metrics import accuracy_score\n",
        "from sklearn.preprocessing import StandardScaler\n",
        "from nltk.corpus import stopwords\n",
        "from nltk.stem import WordNetLemmatizer\n",
        "from string import punctuation\n",
        "import nltk\n",
        "\n",
        "nltk.download('stopwords')\n",
        "nltk.download('wordnet')\n"
      ]
    },
    {
      "cell_type": "code",
      "source": [
        "with open('/content/reviews.txt', 'r') as f:\n",
        "    reviews = f.read()\n",
        "with open('/content/labels.txt', 'r') as f:\n",
        "    labels = f.read()"
      ],
      "metadata": {
        "id": "xYRjywg1JIkV"
      },
      "execution_count": 18,
      "outputs": []
    },
    {
      "cell_type": "code",
      "source": [
        "print(reviews[:2000])\n",
        "print(labels[:100])"
      ],
      "metadata": {
        "colab": {
          "base_uri": "https://localhost:8080/"
        },
        "id": "OPT1ENWqJYEn",
        "outputId": "d9679ab3-431b-401d-8130-4f29ffc4674e"
      },
      "execution_count": 19,
      "outputs": [
        {
          "output_type": "stream",
          "name": "stdout",
          "text": [
            "bromwell high is a cartoon comedy . it ran at the same time as some other programs about school life  such as  teachers  . my   years in the teaching profession lead me to believe that bromwell high  s satire is much closer to reality than is  teachers  . the scramble to survive financially  the insightful students who can see right through their pathetic teachers  pomp  the pettiness of the whole situation  all remind me of the schools i knew and their students . when i saw the episode in which a student repeatedly tried to burn down the school  i immediately recalled . . . . . . . . . at . . . . . . . . . . high . a classic line inspector i  m here to sack one of your teachers . student welcome to bromwell high . i expect that many adults of my age think that bromwell high is far fetched . what a pity that it isn  t   \n",
            "story of a man who has unnatural feelings for a pig . starts out with a opening scene that is a terrific example of absurd comedy . a formal orchestra audience is turned into an insane  violent mob by the crazy chantings of it  s singers . unfortunately it stays absurd the whole time with no general narrative eventually making it just too off putting . even those from the era should be turned off . the cryptic dialogue would make shakespeare seem easy to a third grader . on a technical level it  s better than you might think with some good cinematography by future great vilmos zsigmond . future stars sally kirkland and frederic forrest can be seen briefly .  \n",
            "homelessness  or houselessness as george carlin stated  has been an issue for years but never a plan to help those on the street that were once considered human who did everything from going to school  work  or vote for the matter . most people think of the homeless as just a lost cause while worrying about things such as racism  the war on iraq  pressuring kids to succeed  technology  the elections  inflation  or worrying if they  ll be next to end up on the streets .  br    br   but what if y\n",
            "positive\n",
            "negative\n",
            "positive\n",
            "negative\n",
            "positive\n",
            "negative\n",
            "positive\n",
            "negative\n",
            "positive\n",
            "negative\n",
            "positive\n",
            "n\n"
          ]
        }
      ]
    },
    {
      "cell_type": "code",
      "source": [
        "# Supprimer la ponctuation\n",
        "reviews = reviews.lower()\n",
        "reviews = ''.join([c for c in reviews if c not in punctuation])"
      ],
      "metadata": {
        "id": "Nb83VpVDJkAR"
      },
      "execution_count": 20,
      "outputs": []
    },
    {
      "cell_type": "code",
      "source": [
        "#Diviser les critiques en lignes individuelles\n",
        "review_split = reviews.split('\\n')"
      ],
      "metadata": {
        "id": "OsHulrWz3tJr"
      },
      "execution_count": 21,
      "outputs": []
    },
    {
      "cell_type": "code",
      "source": [
        "# Prétraitement du texte : supprimer les mots vides et appliquer la lemmatisation\n",
        "stop_words = set(stopwords.words('english'))\n",
        "lemmatizer = WordNetLemmatizer()"
      ],
      "metadata": {
        "id": "4pzGINneJ6I0",
        "collapsed": true
      },
      "execution_count": 22,
      "outputs": []
    },
    {
      "cell_type": "code",
      "source": [
        "def preprocess_text(text):\n",
        "    return ' '.join([lemmatizer.lemmatize(word) for word in text.split() if word not in stop_words])\n",
        "\n",
        "preprocessed_reviews = [preprocess_text(review) for review in review_split]"
      ],
      "metadata": {
        "id": "_mXULMA6KlHY"
      },
      "execution_count": 23,
      "outputs": []
    },
    {
      "cell_type": "code",
      "source": [
        "#Encoder les étiquettes\n",
        "\n",
        "label_split = labels.split('\\n')\n",
        "encoded_labels = np.array([1 if label == 'positive' else 0 for label in label_split])"
      ],
      "metadata": {
        "id": "2a32pKWqzTv-"
      },
      "execution_count": 24,
      "outputs": []
    },
    {
      "cell_type": "code",
      "source": [
        "# longueur cohérente entre les critiques et les étiquettes\n",
        "min_len = min(len(preprocessed_reviews), len(encoded_labels))\n",
        "preprocessed_reviews = preprocessed_reviews[:min_len]\n",
        "encoded_labels = encoded_labels[:min_len]"
      ],
      "metadata": {
        "id": "APsKc9rtzhGB"
      },
      "execution_count": 25,
      "outputs": []
    },
    {
      "cell_type": "code",
      "source": [
        "# Transformer les critiques en utilisant TF-IDF\n",
        "tfidf_vectorizer = TfidfVectorizer(max_features=5000)\n",
        "X = tfidf_vectorizer.fit_transform(preprocessed_reviews).toarray()\n"
      ],
      "metadata": {
        "id": "Kb4EL28d04z1"
      },
      "execution_count": 27,
      "outputs": []
    },
    {
      "cell_type": "code",
      "source": [
        "# Normaliser les caractéristiques en supprimant la moyenne et en les mettant à l'échelle pour obtenir une variance unitaire\n",
        "scaler = StandardScaler()\n",
        "X_scaled = scaler.fit_transform(X)"
      ],
      "metadata": {
        "id": "M9EaJlV_1QJm"
      },
      "execution_count": 28,
      "outputs": []
    },
    {
      "cell_type": "code",
      "source": [
        "X_train, X_test, y_train, y_test = train_test_split(X_scaled, encoded_labels, test_size=0.2, random_state=42)\n"
      ],
      "metadata": {
        "id": "ASaWx3JV1RbJ"
      },
      "execution_count": 29,
      "outputs": []
    },
    {
      "cell_type": "code",
      "source": [
        "from sklearn.svm import SVC, LinearSVC\n",
        "from sklearn.metrics import accuracy_score\n",
        "\n",
        "# SVC classifier\n",
        "svm_svc = SVC(kernel='rbf', C=1, gamma='scale')\n",
        "\n",
        "# Train SVC model\n",
        "svm_svc.fit(X_train, y_train)\n",
        "\n",
        "# Predict on test set\n",
        "y_pred_svc = svm_svc.predict(X_test)\n",
        "\n",
        "# Calculate accuracy\n",
        "test_accuracy_svc = accuracy_score(y_test, y_pred_svc)\n",
        "print(\"Test Accuracy SVC with C=1:\", test_accuracy_svc)\n",
        "\n",
        "\n",
        "###################################\n",
        "\n",
        "\n",
        "# SVC classifier\n",
        "svm_svc = SVC(kernel='rbf', C=2, gamma='scale')\n",
        "\n",
        "# Train SVC model\n",
        "svm_svc.fit(X_train, y_train)\n",
        "\n",
        "# Predict on test set\n",
        "y_pred_svc = svm_svc.predict(X_test)\n",
        "\n",
        "# Calculate accuracy\n",
        "test_accuracy_svc = accuracy_score(y_test, y_pred_svc)\n",
        "print(\"Test Accuracy SVC with C=2:\", test_accuracy_svc)\n",
        "\n",
        "\n",
        "###################################\n",
        "\n",
        "\n",
        "# Initialize LinearSVC\n",
        "svm_linear_svc = LinearSVC(C=1)\n",
        "\n",
        "# Train\n",
        "svm_linear_svc.fit(X_train, y_train)\n",
        "\n",
        "# Predict\n",
        "y_pred_linear_svc = svm_linear_svc.predict(X_test)\n",
        "\n",
        "# accuracy\n",
        "test_accuracy_linear_svc = accuracy_score(y_test, y_pred_linear_svc)\n",
        "print(\"Test Accuracy LinearSVC with C=1:\", test_accuracy_linear_svc)\n",
        "\n",
        "############################\n",
        "\n",
        "\n",
        "# Initialize SVC\n",
        "svm_svc = SVC(kernel='poly', C=1, gamma='scale')\n",
        "\n",
        "# Train SVC model\n",
        "svm_svc.fit(X_train, y_train)\n",
        "\n",
        "# Predict\n",
        "y_pred_svc = svm_svc.predict(X_test)\n",
        "\n",
        "# accuracy\n",
        "test_accuracy_svc = accuracy_score(y_test, y_pred_svc)\n",
        "print(\"Test Accuracy SVC with C=1:\", test_accuracy_svc)\n",
        "\n",
        "\n",
        "############################\n",
        "\n",
        "# Initialize SVC\n",
        "svm_svc = SVC(kernel='poly', C=2, gamma='scale')\n",
        "\n",
        "# Train SVC model\n",
        "svm_svc.fit(X_train, y_train)\n",
        "\n",
        "# Predict\n",
        "y_pred_svc = svm_svc.predict(X_test)\n",
        "\n",
        "# accuracy\n",
        "test_accuracy_svc = accuracy_score(y_test, y_pred_svc)\n",
        "print(\"Test Accuracy SVC with C=2:\", test_accuracy_svc)\n",
        "\n",
        "\n",
        "############################\n",
        "\n",
        "# LinearSVC model\n",
        "\n",
        "svm_linear_svc = LinearSVC(C=2)\n",
        "svm_linear_svc.fit(X_train, y_train)\n",
        "\n",
        "# Predict\n",
        "y_pred_linear_svc = svm_linear_svc.predict(X_test)\n",
        "\n",
        "# accuracy\n",
        "test_accuracy_linear_svc = accuracy_score(y_test, y_pred_linear_svc)\n",
        "print(\"Test Accuracy LinearSVC:\", test_accuracy_linear_svc)\n"
      ],
      "metadata": {
        "colab": {
          "base_uri": "https://localhost:8080/"
        },
        "id": "tnvyjRsN5cdm",
        "outputId": "dfb9ecdb-e652-4e13-b1fa-f3fd5f418a49"
      },
      "execution_count": 34,
      "outputs": [
        {
          "output_type": "stream",
          "name": "stdout",
          "text": [
            "Test Accuracy SVC with C=1: 0.892\n",
            "Test Accuracy SVC with C=2: 0.888\n",
            "Test Accuracy LinearSVC with C=1: 0.853\n",
            "Test Accuracy SVC with C=1: 0.691\n",
            "Test Accuracy SVC with C=2: 0.756\n",
            "Test Accuracy LinearSVC: 0.853\n"
          ]
        }
      ]
    },
    {
      "cell_type": "code",
      "source": [
        "from sklearn.model_selection import GridSearchCV\n",
        "from sklearn.svm import SVC, LinearSVC\n",
        "from sklearn.metrics import accuracy_score\n",
        "\n",
        "param_grid_svc = [\n",
        "    {'C': [0.1, 1, 10], 'kernel': ['linear']},\n",
        "    {'C': [0.1, 1, 10], 'kernel': ['rbf'], 'gamma': ['scale', 'auto']}\n",
        "]\n",
        "\n",
        "param_grid_linear_svc = [\n",
        "    {'C': [0.1, 1, 10]}\n",
        "]\n",
        "\n",
        "# Créer les classificateurs SVM\n",
        "svm_svc = SVC()\n",
        "svm_linear_svc = LinearSVC()\n",
        "\n",
        "# Configurer la recherche par grille pour SVC\n",
        "grid_search_svc = GridSearchCV(svm_svc, param_grid_svc, cv=5, scoring='accuracy')\n",
        "\n",
        "# Configurer la recherche par grille pour LinearSVC\n",
        "grid_search_linear_svc = GridSearchCV(svm_linear_svc, param_grid_linear_svc, cv=5, scoring='accuracy')\n",
        "\n",
        "# Exécuter la recherche par grille pour SVC\n",
        "grid_search_svc.fit(X_train, y_train)\n",
        "\n",
        "# Exécuter la recherche par grille pour LinearSVC\n",
        "grid_search_linear_svc.fit(X_train, y_train)\n",
        "\n",
        "# Sélectionner le meilleur modèle pour SVC\n",
        "best_model_svc = grid_search_svc.best_estimator_\n",
        "\n",
        "# Sélectionner le meilleur modèle pour LinearSVC\n",
        "best_model_linear_svc = grid_search_linear_svc.best_estimator_\n",
        "\n",
        "# Évaluer le meilleur modèle SVC sur les données de test\n",
        "y_pred_svc = best_model_svc.predict(X_test)\n",
        "accuracy_svc = accuracy_score(y_test, y_pred_svc)\n",
        "\n",
        "# Évaluer le meilleur modèle LinearSVC sur les données de test\n",
        "y_pred_linear_svc = best_model_linear_svc.predict(X_test)\n",
        "accuracy_linear_svc = accuracy_score(y_test, y_pred_linear_svc)\n",
        "\n",
        "print(\"Meilleur modèle SVM (SVC) :\")\n",
        "print(\"Hyperparamètres :\", grid_search_svc.best_params_)\n",
        "print(\"Score de validation croisée :\", grid_search_svc.best_score_)\n",
        "print(\"Précision sur les données de test :\", accuracy_svc)\n",
        "\n",
        "print(\"\\nMeilleur modèle SVM (LinearSVC) :\")\n",
        "print(\"Hyperparamètres :\", grid_search_linear_svc.best_params_)\n",
        "print(\"Score de validation croisée :\", grid_search_linear_svc.best_score_)\n",
        "print(\"Précision sur les données de test :\", accuracy_linear_svc)\n"
      ],
      "metadata": {
        "colab": {
          "base_uri": "https://localhost:8080/"
        },
        "id": "7NTrtVdQAB7d",
        "outputId": "7b30a8cf-8451-44c8-9081-daaabcf60556"
      },
      "execution_count": 36,
      "outputs": [
        {
          "output_type": "stream",
          "name": "stderr",
          "text": [
            "/usr/local/lib/python3.10/dist-packages/sklearn/svm/_base.py:1244: ConvergenceWarning: Liblinear failed to converge, increase the number of iterations.\n",
            "  warnings.warn(\n",
            "/usr/local/lib/python3.10/dist-packages/sklearn/svm/_base.py:1244: ConvergenceWarning: Liblinear failed to converge, increase the number of iterations.\n",
            "  warnings.warn(\n",
            "/usr/local/lib/python3.10/dist-packages/sklearn/svm/_base.py:1244: ConvergenceWarning: Liblinear failed to converge, increase the number of iterations.\n",
            "  warnings.warn(\n",
            "/usr/local/lib/python3.10/dist-packages/sklearn/svm/_base.py:1244: ConvergenceWarning: Liblinear failed to converge, increase the number of iterations.\n",
            "  warnings.warn(\n",
            "/usr/local/lib/python3.10/dist-packages/sklearn/svm/_base.py:1244: ConvergenceWarning: Liblinear failed to converge, increase the number of iterations.\n",
            "  warnings.warn(\n",
            "/usr/local/lib/python3.10/dist-packages/sklearn/svm/_base.py:1244: ConvergenceWarning: Liblinear failed to converge, increase the number of iterations.\n",
            "  warnings.warn(\n",
            "/usr/local/lib/python3.10/dist-packages/sklearn/svm/_base.py:1244: ConvergenceWarning: Liblinear failed to converge, increase the number of iterations.\n",
            "  warnings.warn(\n"
          ]
        },
        {
          "output_type": "stream",
          "name": "stdout",
          "text": [
            "Meilleur modèle SVM (SVC) :\n",
            "Hyperparamètres : {'C': 1, 'gamma': 'scale', 'kernel': 'rbf'}\n",
            "Score de validation croisée : 0.9057499999999999\n",
            "Précision sur les données de test : 0.892\n",
            "\n",
            "Meilleur modèle SVM (LinearSVC) :\n",
            "Hyperparamètres : {'C': 0.1}\n",
            "Score de validation croisée : 0.87425\n",
            "Précision sur les données de test : 0.853\n"
          ]
        }
      ]
    },
    {
      "cell_type": "code",
      "source": [
        "from sklearn.model_selection import GridSearchCV\n",
        "from sklearn.linear_model import LogisticRegression\n",
        "from sklearn.tree import DecisionTreeClassifier\n",
        "from sklearn.neighbors import KNeighborsClassifier\n",
        "from sklearn.metrics import accuracy_score\n",
        "\n",
        "param_grid_lr = {'C': [0.1, 1, 10]}\n",
        "param_grid_dt = {'max_depth': [None, 10, 20]}\n",
        "param_grid_knn = {'n_neighbors': [3, 5, 10]}\n",
        "\n",
        "models = {\n",
        "    \"Logistic Regression\": GridSearchCV(LogisticRegression(), param_grid_lr, cv=5),\n",
        "    \"Decision Tree\": GridSearchCV(DecisionTreeClassifier(), param_grid_dt, cv=5),\n",
        "    \"KNN\": GridSearchCV(KNeighborsClassifier(), param_grid_knn, cv=5)\n",
        "}\n",
        "\n",
        "for name, model in models.items():\n",
        "    model.fit(X_train, y_train)\n",
        "\n",
        "predictions = {}\n",
        "for name, model in models.items():\n",
        "    predictions[name] = model.predict(X_test)\n",
        "\n",
        "performance_measures = {}\n",
        "for name, preds in predictions.items():\n",
        "    accuracy = accuracy_score(y_test, preds)\n",
        "    performance_measures[name] = accuracy\n",
        "\n",
        "print(performance_measures)\n"
      ],
      "metadata": {
        "colab": {
          "base_uri": "https://localhost:8080/"
        },
        "id": "l-e-5TGLKQnV",
        "outputId": "5fd08754-c9bb-4b46-909f-3b7b0c62869e"
      },
      "execution_count": 37,
      "outputs": [
        {
          "output_type": "stream",
          "name": "stdout",
          "text": [
            "{'Logistic Regression': 0.871, 'Decision Tree': 0.72, 'KNN': 0.641}\n"
          ]
        }
      ]
    },
    {
      "cell_type": "markdown",
      "source": [
        "Alors , la meilleur precision etait :\n",
        " Meilleur modèle SVM (SVC) :\n",
        "Hyperparamètres : {'C': 1, 'gamma': 'scale', 'kernel': 'rbf'}\n",
        "Score de validation croisée : 0.9057499999999999\n",
        "Précision sur les données de test : 0.892 ***texte en gras***"
      ],
      "metadata": {
        "id": "s6wR8L2oLtIg"
      }
    }
  ]
}